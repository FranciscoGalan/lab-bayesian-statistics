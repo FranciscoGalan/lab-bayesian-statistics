{
 "cells": [
  {
   "cell_type": "markdown",
   "metadata": {},
   "source": [
    "# Intro to Bayesian Statistics Lab\n",
    "\n",
    "Complete the following set of exercises to solidify your knowledge of Bayesian statistics and Bayesian data analysis."
   ]
  },
  {
   "cell_type": "code",
   "execution_count": 6,
   "metadata": {},
   "outputs": [],
   "source": [
    "import pandas as pd\n",
    "import numpy as np\n",
    "import matplotlib.pyplot as plt"
   ]
  },
  {
   "cell_type": "markdown",
   "metadata": {},
   "source": [
    "## 1. Cookie Problem\n",
    "\n",
    "Suppose we have two bowls of cookies. Bowl 1 contains 30 vanilla cookies and 10 chocolate cookies. Bowl 2 contains 20 of each. You randomly pick one cookie out of one of the bowls, and it is vanilla. Use Bayes Theorem to calculate the probability that the vanilla cookie you picked came from Bowl 1?"
   ]
  },
  {
   "cell_type": "markdown",
   "metadata": {},
   "source": [
    "P(A|B) = P(B|A)*P(A) / P(B)"
   ]
  },
  {
   "cell_type": "code",
   "execution_count": 7,
   "metadata": {},
   "outputs": [
    {
     "data": {
      "text/plain": [
       "0.6"
      ]
     },
     "execution_count": 7,
     "metadata": {},
     "output_type": "execute_result"
    }
   ],
   "source": [
    "p_vanilla = (.75 * .5) + (.5 * .5) #P(A)\n",
    "p_1 = .5 # P(B)\n",
    "p_vanilla_1 = .75\n",
    "\n",
    "p_1_vanilla = p_vanilla_1 * p_1 / p_vanilla\n",
    "p_1_vanilla"
   ]
  },
  {
   "cell_type": "markdown",
   "metadata": {},
   "source": [
    "What is the probability that it came from Bowl 2?"
   ]
  },
  {
   "cell_type": "code",
   "execution_count": 8,
   "metadata": {},
   "outputs": [
    {
     "data": {
      "text/plain": [
       "0.4"
      ]
     },
     "execution_count": 8,
     "metadata": {},
     "output_type": "execute_result"
    }
   ],
   "source": [
    "p_vanilla_2 = 0.5\n",
    "p_2 = 0.5\n",
    "\n",
    "p_2_vanilla = p_vanilla_2 * p_2 / p_vanilla\n",
    "p_2_vanilla"
   ]
  },
  {
   "cell_type": "markdown",
   "metadata": {},
   "source": [
    "What if the cookie you had picked was chocolate? What are the probabilities that the chocolate cookie came from Bowl 1 and Bowl 2 respectively?"
   ]
  },
  {
   "cell_type": "code",
   "execution_count": 9,
   "metadata": {},
   "outputs": [
    {
     "name": "stdout",
     "output_type": "stream",
     "text": [
      "Bowl 1: 0.3333333333333333\n",
      "Bowl 2: 0.6666666666666666\n"
     ]
    }
   ],
   "source": [
    "p_choco_1 = 1 - p_vanilla_1\n",
    "p_choco_2 = 1 - p_vanilla_2\n",
    "p_choco = 1 - p_vanilla\n",
    "\n",
    "p_1_choco = p_choco_1 * p_1 / p_choco\n",
    "p_2_choco = p_choco_2 * p_2 / p_choco\n",
    "\n",
    "print(f'Bowl 1: {p_1_choco}')\n",
    "print(f'Bowl 2: {p_2_choco}')"
   ]
  },
  {
   "cell_type": "markdown",
   "metadata": {},
   "source": [
    "## 2. Candy Problem\n",
    "\n",
    "Suppose you have two bags of candies:\n",
    "\n",
    "- In Bag 1, the mix of colors is:\n",
    "    - Brown - 30%\n",
    "    - Yellow - 20%\n",
    "    - Red - 20%\n",
    "    - Green - 10%\n",
    "    - Orange - 10%\n",
    "    - Tan - 10%\n",
    "    \n",
    "- In Bag 2, the mix of colors is:\n",
    "    - Blue - 24%\n",
    "    - Green - 20%\n",
    "    - Orange - 16%\n",
    "    - Yellow - 14%\n",
    "    - Red - 13%\n",
    "    - Brown - 13%\n",
    "    \n",
    "Not knowing which bag is which, you randomly draw one candy from each bag. One is yellow and one is green. What is the probability that the yellow one came from the Bag 1?\n",
    "\n",
    "*Hint: For the likelihoods, you will need to multiply the probabilities of drawing yellow from one bag and green from the other bag and vice versa.*"
   ]
  },
  {
   "cell_type": "code",
   "execution_count": 10,
   "metadata": {},
   "outputs": [
    {
     "data": {
      "text/plain": [
       "0.5882352941176471"
      ]
     },
     "execution_count": 10,
     "metadata": {},
     "output_type": "execute_result"
    }
   ],
   "source": [
    "p_yellow_1 = 0.2\n",
    "p_yellow_2 = 0.14\n",
    "p_1 = 0.5\n",
    "p_2 = 0.5\n",
    "p_yellow = (p_1 * p_yellow_1) + (p_2 * p_yellow_2)\n",
    "\n",
    "p_1_yellow = p_yellow_1 * p_1 / p_yellow\n",
    "p_1_yellow"
   ]
  },
  {
   "cell_type": "markdown",
   "metadata": {},
   "source": [
    "What is the probability that the yellow candy came from Bag 2?"
   ]
  },
  {
   "cell_type": "code",
   "execution_count": 11,
   "metadata": {},
   "outputs": [
    {
     "data": {
      "text/plain": [
       "0.411764705882353"
      ]
     },
     "execution_count": 11,
     "metadata": {},
     "output_type": "execute_result"
    }
   ],
   "source": [
    "p_2_yellow = p_yellow_2 * p_2 / p_yellow\n",
    "p_2_yellow"
   ]
  },
  {
   "cell_type": "markdown",
   "metadata": {},
   "source": [
    "What are the probabilities that the green one came from Bag 1 and Bag 2 respectively?"
   ]
  },
  {
   "cell_type": "code",
   "execution_count": 16,
   "metadata": {},
   "outputs": [
    {
     "data": {
      "text/plain": [
       "0.3333333333333333"
      ]
     },
     "execution_count": 16,
     "metadata": {},
     "output_type": "execute_result"
    }
   ],
   "source": [
    "p_green_1 = 0.1\n",
    "p_green_2 = 0.2\n",
    "p_green = (p_1 * p_green_1) + (p_2 * p_green_2)\n",
    "\n",
    "# Resultado sin considerar el primer draw de yellow\n",
    "p_1_green = p_green_1 * p_1 / p_green\n",
    "\n",
    "# Resultado considerando yellow en el primer draw\n",
    "p_1_green_draw2 = (p_1_yellow + p_2_yellow) * p_1_green\n",
    "p_1_green_draw2"
   ]
  },
  {
   "cell_type": "code",
   "execution_count": 17,
   "metadata": {},
   "outputs": [
    {
     "data": {
      "text/plain": [
       "0.6666666666666666"
      ]
     },
     "execution_count": 17,
     "metadata": {},
     "output_type": "execute_result"
    }
   ],
   "source": [
    "p_2_green = p_green_2 * p_2 / p_green\n",
    "\n",
    "# Ajustando con el draw de amarillo\n",
    "p_2_green_draw2 = (p_1_yellow + p_2_yellow) * p_2_green\n",
    "p_2_green_draw2"
   ]
  },
  {
   "cell_type": "markdown",
   "metadata": {},
   "source": [
    "## 3. Monty Hall Problem\n",
    "\n",
    "Suppose you are a contestant on the popular game show *Let's Make a Deal*. The host of the show (Monty Hall) presents you with three doors - Door A, Door B, and Door C. He tells you that there is a sports car behind one of them and if you choose the correct one, you win the car!\n",
    "\n",
    "You select Door A, but then Monty makes things a little more interesting. He opens Door B to reveal that there is no sports car behind it and asks you if you would like to stick with your choice of Door A or switch your choice to Door C. Given this new information, what are the probabilities of you winning the car if you stick with Door A versus if you switch to Door C?"
   ]
  },
  {
   "cell_type": "markdown",
   "metadata": {},
   "source": [
    "- P(A|B) = P(B|A)*P(A) / P(B)\n",
    "- P(A and B) = P(A) ⋅ P(B|A)"
   ]
  },
  {
   "cell_type": "markdown",
   "metadata": {},
   "source": [
    "Antes de que se nos revele la puerta B, tenemos estas probabilidades:"
   ]
  },
  {
   "cell_type": "code",
   "execution_count": 44,
   "metadata": {},
   "outputs": [
    {
     "data": {
      "text/plain": [
       "0.5"
      ]
     },
     "execution_count": 44,
     "metadata": {},
     "output_type": "execute_result"
    }
   ],
   "source": [
    "# Probabilidad de que el coche esté en una de estas puertas:\n",
    "p_a = 1/3\n",
    "p_b = 1/3\n",
    "p_c = 1/3\n",
    "\n",
    "# Probabilidad de que el coche no esté en una de estas puertas:\n",
    "p_not_a = p_b + p_c\n",
    "p_not_b = p_a + p_c\n",
    "p_not_c = p_a + p_b\n",
    "\n",
    "# Probabilidad de que el coché no esté en la puerta B si el coche está en la A o C:\n",
    "p_not_b_a = 1\n",
    "p_not_b_c = 1\n",
    "\n",
    "# Probabilidad de que el coche está en la A si es que el coche no está en la B:\n",
    "p_a_not_b = p_not_b_a * p_a / p_not_b\n",
    "p_a_not_b"
   ]
  },
  {
   "cell_type": "markdown",
   "metadata": {},
   "source": [
    "Después de que se revela la puerta B, se alteran las probabilidades:"
   ]
  },
  {
   "cell_type": "code",
   "execution_count": 45,
   "metadata": {},
   "outputs": [
    {
     "name": "stdout",
     "output_type": "stream",
     "text": [
      "No switch: 0.3333333333333333\n",
      "Switch: 0.6666666666666666\n"
     ]
    }
   ],
   "source": [
    "# Probabilidad de que se revelara la puerta B, si el carro está en A, B o C y fue seleccionada\n",
    "# la puerta A: \n",
    "p_revelo_b_a_seleccionada_a = 1/2\n",
    "p_revelo_b_b_seleccionada_a = 0\n",
    "p_revelo_b_c_seleccionada_a = 1 #Esta es la probabilidad crucial. B es la única puerta que se puede\n",
    "# abrir, puesto que el host no puede revelar el carro.\n",
    "\n",
    "#Probabilidad de que se revele B si seleccionamos A:\n",
    "p_revelo_b = p_revelo_b_a_seleccionada_a * p_a + \\\n",
    "p_revelo_b_b_seleccionada_a * p_b + \\\n",
    "p_revelo_b_c_seleccionada_a * p_c\n",
    "\n",
    "# Probabilidad de que el caro esté en A, B o C, si fue seleccionada A y se reveló B.\n",
    "p_a_seleccionada_a_revelo_b = p_revelo_b_a_seleccionada_a * p_a / p_revelo_b\n",
    "p_b_seleccionada_a_revelo_b = 0\n",
    "p_c_seleccionada_a_revelo_b = p_revelo_b_c_seleccionada_a * p_c / p_revelo_b\n",
    "\n",
    "print(f'No switch: {p_a_seleccionada_a_revelo_b}')\n",
    "print(f'Switch: {p_c_seleccionada_a_revelo_b}')"
   ]
  },
  {
   "cell_type": "markdown",
   "metadata": {},
   "source": [
    "## 4. Bayesian Analysis \n",
    "\n",
    "Suppose you work for a landscaping company, and they want to advertise their service online. They create an ad and sit back waiting for the money to roll in. On the first day, the ad sends 100 visitors to the site and 14 of them sign up for landscaping services. Create a generative model to come up with the posterior distribution and produce a visualization of what the posterior distribution would look like given the observed data."
   ]
  },
  {
   "cell_type": "markdown",
   "metadata": {},
   "source": [
    "NOTA: P(A|B) = P(A) P(B|A) / P(B)\n",
    "\n",
    "- P(A): prior, probability of the hypothesis before we see the data.\n",
    "- P(B|A): likelihood, probability of the data under the hypothesis.\n",
    "- P(B): marginal probability, probability of the data under any hypothesis. Can be computed as P(A) P(B|A) + P(-A) P(B|-A).\n",
    "- P(A|B): posterior, probability after having seen the data.\n"
   ]
  },
  {
   "cell_type": "markdown",
   "metadata": {},
   "source": [
    "- Hipothesis: ¿cuántas personas van a contratar los servicios por cada ad?\n",
    "- Prior: hay un 50/50 de probabilidad de que alguien vea el ad y contrate el servicio."
   ]
  },
  {
   "cell_type": "code",
   "execution_count": 47,
   "metadata": {},
   "outputs": [],
   "source": [
    "def bayes_rule(priors, likelihoods):\n",
    "    marg = sum(np.multiply(priors, likelihoods))\n",
    "    post = np.divide(np.multiply(priors, likelihoods), marg)\n",
    "    return post"
   ]
  },
  {
   "cell_type": "markdown",
   "metadata": {},
   "source": [
    "Produce a set of descriptive statistics for the posterior distribution."
   ]
  },
  {
   "cell_type": "code",
   "execution_count": null,
   "metadata": {},
   "outputs": [],
   "source": []
  },
  {
   "cell_type": "markdown",
   "metadata": {},
   "source": [
    "What is the 90% credible interval range?"
   ]
  },
  {
   "cell_type": "code",
   "execution_count": null,
   "metadata": {},
   "outputs": [],
   "source": []
  },
  {
   "cell_type": "markdown",
   "metadata": {},
   "source": [
    "What is the Maximum Likelihood Estimate?"
   ]
  },
  {
   "cell_type": "code",
   "execution_count": null,
   "metadata": {},
   "outputs": [],
   "source": []
  }
 ],
 "metadata": {
  "kernelspec": {
   "display_name": "Python 3",
   "language": "python",
   "name": "python3"
  },
  "language_info": {
   "codemirror_mode": {
    "name": "ipython",
    "version": 3
   },
   "file_extension": ".py",
   "mimetype": "text/x-python",
   "name": "python",
   "nbconvert_exporter": "python",
   "pygments_lexer": "ipython3",
   "version": "3.7.6"
  }
 },
 "nbformat": 4,
 "nbformat_minor": 2
}
